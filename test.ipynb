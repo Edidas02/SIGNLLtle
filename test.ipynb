{
 "cells": [
  {
   "cell_type": "code",
   "execution_count": 4,
   "metadata": {},
   "outputs": [],
   "source": [
    "import nltk\n",
    "from nltk.corpus import brown\n",
    "import gensim\n",
    "from gensim.models import Word2Vec as w2v\n",
    "from gensim.test.utils import common_texts\n",
    "from gensim.models import KeyedVectors\n",
    "import string"
   ]
  },
  {
   "cell_type": "code",
   "execution_count": 2,
   "metadata": {},
   "outputs": [
    {
     "name": "stderr",
     "output_type": "stream",
     "text": [
      "[nltk_data] Downloading package brown to\n",
      "[nltk_data]     C:\\Users\\apoor\\AppData\\Roaming\\nltk_data...\n",
      "[nltk_data]   Unzipping corpora\\brown.zip.\n"
     ]
    },
    {
     "data": {
      "text/plain": [
       "True"
      ]
     },
     "execution_count": 2,
     "metadata": {},
     "output_type": "execute_result"
    }
   ],
   "source": [
    "nltk.download(\"brown\")"
   ]
  },
  {
   "cell_type": "code",
   "execution_count": 5,
   "metadata": {},
   "outputs": [],
   "source": [
    "document = brown.sents()\n",
    "data = []\n",
    "for sent in document:\n",
    "  new_sent = []\n",
    "  for word in sent:\n",
    "    new_word = word.lower()\n",
    "    if new_word[0] not in string.punctuation:\n",
    "      new_sent.append(new_word)\n",
    "  if len(new_sent) > 0:\n",
    "    data.append(new_sent)"
   ]
  },
  {
   "cell_type": "code",
   "execution_count": 6,
   "metadata": {},
   "outputs": [],
   "source": [
    "model = w2v(sentences=data, vector_size=300, window=5, min_count=1, workers=4, epochs=50)"
   ]
  },
  {
   "cell_type": "code",
   "execution_count": 8,
   "metadata": {},
   "outputs": [
    {
     "data": {
      "text/plain": [
       "[('christ', 0.43432310223579407),\n",
       " ('god', 0.4017421007156372),\n",
       " ('feel', 0.3887278437614441),\n",
       " ('affection', 0.37412139773368835),\n",
       " ('faith', 0.35803529620170593),\n",
       " ('salvation', 0.3555587828159332),\n",
       " ('lord', 0.35490167140960693),\n",
       " ('soul', 0.353101521730423),\n",
       " ('joy', 0.3480943441390991),\n",
       " ('sight', 0.3451952040195465)]"
      ]
     },
     "execution_count": 8,
     "metadata": {},
     "output_type": "execute_result"
    }
   ],
   "source": [
    "model.wv.most_similar('love')"
   ]
  }
 ],
 "metadata": {
  "interpreter": {
   "hash": "2868636bff3ccb9c32b1725407badb1bae3a75e2029358f63cd1657df00339fe"
  },
  "kernelspec": {
   "display_name": "Python 3.10.0 ('SIGNLLtle-hThnMOc5')",
   "language": "python",
   "name": "python3"
  },
  "language_info": {
   "codemirror_mode": {
    "name": "ipython",
    "version": 3
   },
   "file_extension": ".py",
   "mimetype": "text/x-python",
   "name": "python",
   "nbconvert_exporter": "python",
   "pygments_lexer": "ipython3",
   "version": "3.10.0"
  },
  "orig_nbformat": 4
 },
 "nbformat": 4,
 "nbformat_minor": 2
}
