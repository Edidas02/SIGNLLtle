{
 "cells": [
  {
   "cell_type": "code",
   "execution_count": 1,
   "metadata": {},
   "outputs": [],
   "source": [
    "import nltk\n",
    "from nltk.corpus import brown\n",
    "import gensim\n",
    "from gensim.models import Word2Vec as w2v\n",
    "from gensim.test.utils import common_texts\n",
    "from gensim.models import KeyedVectors\n",
    "import string\n",
    "import gensim.downloader\n",
    "import numpy as np\n",
    " \n",
    "corpus = gensim.downloader.load('text8')"
   ]
  },
  {
   "cell_type": "code",
   "execution_count": 24,
   "metadata": {},
   "outputs": [
    {
     "name": "stderr",
     "output_type": "stream",
     "text": [
      "[nltk_data] Downloading package brown to\n",
      "[nltk_data]     C:\\Users\\puroh\\AppData\\Roaming\\nltk_data...\n",
      "[nltk_data]   Package brown is already up-to-date!\n"
     ]
    },
    {
     "data": {
      "text/plain": [
       "True"
      ]
     },
     "execution_count": 24,
     "metadata": {},
     "output_type": "execute_result"
    }
   ],
   "source": [
    "nltk.download(\"brown\")"
   ]
  },
  {
   "cell_type": "code",
   "execution_count": 3,
   "metadata": {},
   "outputs": [],
   "source": [
    "document = brown.sents()\n",
    "data = []\n",
    "for sent in document:\n",
    "  new_sent = []\n",
    "  for word in sent:\n",
    "    new_word = word.lower()\n",
    "    if new_word[0] not in string.punctuation:\n",
    "      new_sent.append(new_word)\n",
    "  if len(new_sent) > 0:\n",
    "    data.append(new_sent)"
   ]
  },
  {
   "cell_type": "code",
   "execution_count": 2,
   "metadata": {},
   "outputs": [],
   "source": [
    "#model = w2v(sentences=data, vector_size=300, window=5, min_count=1, workers=4, epochs=50)\n",
    "model = w2v(corpus)\n"
   ]
  },
  {
   "cell_type": "code",
   "execution_count": 9,
   "metadata": {},
   "outputs": [],
   "source": [
    "data = [word for sent in corpus for word in sent]"
   ]
  },
  {
   "cell_type": "code",
   "execution_count": 22,
   "metadata": {},
   "outputs": [
    {
     "name": "stdout",
     "output_type": "stream",
     "text": [
      "gustav\n",
      "[('otto', 0.8896277546882629), ('joachim', 0.882783055305481), ('rudolf', 0.8788246512413025), ('wilhelm', 0.8719097971916199), ('heinrich', 0.8698550462722778), ('konrad', 0.8574234247207642), ('hans', 0.8541863560676575), ('leopold', 0.8505415320396423), ('gustaf', 0.8440579175949097), ('josef', 0.8385370969772339)]\n"
     ]
    }
   ],
   "source": [
    "num = np.random.randint(0,len(data))\n",
    "\n",
    "print(data[num])\n",
    "\n",
    "print(model.wv.most_similar(data[num]))"
   ]
  },
  {
   "cell_type": "code",
   "execution_count": null,
   "metadata": {},
   "outputs": [],
   "source": []
  }
 ],
 "metadata": {
  "interpreter": {
   "hash": "2868636bff3ccb9c32b1725407badb1bae3a75e2029358f63cd1657df00339fe"
  },
  "kernelspec": {
   "display_name": "Python 3.10.0 ('SIGNLLtle-hThnMOc5')",
   "language": "python",
   "name": "python3"
  },
  "language_info": {
   "codemirror_mode": {
    "name": "ipython",
    "version": 3
   },
   "file_extension": ".py",
   "mimetype": "text/x-python",
   "name": "python",
   "nbconvert_exporter": "python",
   "pygments_lexer": "ipython3",
   "version": "3.9.6"
  },
  "orig_nbformat": 4
 },
 "nbformat": 4,
 "nbformat_minor": 2
}
